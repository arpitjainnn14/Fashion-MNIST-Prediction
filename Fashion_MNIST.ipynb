{
 "cells": [
  {
   "cell_type": "markdown",
   "id": "44c76cf7",
   "metadata": {},
   "source": [
    "# Fashion MNIST Dataset"
   ]
  },
  {
   "cell_type": "code",
   "execution_count": 46,
   "id": "c671b152",
   "metadata": {},
   "outputs": [],
   "source": [
    "import tensorflow\n",
    "from tensorflow import keras\n",
    "from keras.models import Sequential\n",
    "from keras.layers import Dense,Flatten,LeakyReLU,Dropout\n",
    "\n",
    "import matplotlib.pyplot as plt"
   ]
  },
  {
   "cell_type": "code",
   "execution_count": 47,
   "id": "5ab4946b",
   "metadata": {},
   "outputs": [],
   "source": [
    "(X_train,y_train),(X_test,y_test)=keras.datasets.fashion_mnist.load_data() #Loading the fashion mnist dataset"
   ]
  },
  {
   "cell_type": "code",
   "execution_count": 48,
   "id": "82fbc398",
   "metadata": {},
   "outputs": [],
   "source": [
    "# for i in range(5):\n",
    "#     plt.imshow(X_train[i])\n",
    "#     plt.show()"
   ]
  },
  {
   "cell_type": "code",
   "execution_count": 49,
   "id": "0da6f193",
   "metadata": {},
   "outputs": [],
   "source": [
    "#Normalization\n",
    "X_train=X_train/255\n",
    "X_test=X_test/255"
   ]
  },
  {
   "cell_type": "markdown",
   "id": "9434fd7e",
   "metadata": {},
   "source": [
    "##### If I OHE then I should use Categorical Entropy otherwise I dont have to encode and I can directly use Sparse Categorical Entropy"
   ]
  },
  {
   "cell_type": "code",
   "execution_count": 50,
   "id": "3d9bf6fc",
   "metadata": {},
   "outputs": [],
   "source": [
    "from keras.callbacks import EarlyStopping"
   ]
  },
  {
   "cell_type": "code",
   "execution_count": 51,
   "id": "aef3e247",
   "metadata": {},
   "outputs": [],
   "source": [
    "# model = Sequential([\n",
    "#     Flatten(input_shape=(28,28)),                \n",
    "\n",
    "#     Dense(64),\n",
    "#     LeakyReLU(alpha=0.01),\n",
    "    \n",
    "#     Dense(32),\n",
    "#     LeakyReLU(alpha=0.01),\n",
    "    \n",
    "#     Dense(10, activation='softmax')   "
   ]
  },
  {
   "cell_type": "code",
   "execution_count": 52,
   "id": "94205a0d",
   "metadata": {},
   "outputs": [],
   "source": [
    "model=Sequential()\n",
    "\n",
    "model.add(Flatten(input_shape=(28,28))) #Input Layer\n",
    "\n",
    "model.add(Dense(128,activation='relu')) #Hidden layers\n",
    "model.add(Dropout(0.2))\n",
    "model.add(Dense(128,activation='relu'))\n",
    "model.add(Dropout(0.2))\n",
    "model.add(Dense(64,activation='relu'))\n",
    "model.add(Dropout(0.2))\n",
    "model.add(Dense(64,activation='relu'))\n",
    "model.add(Dropout(0.2))\n",
    "model.add(Dense(32,activation='relu'))\n",
    "\n",
    "model.add(Dense(10,activation='softmax')) #Output Layer"
   ]
  },
  {
   "cell_type": "code",
   "execution_count": 53,
   "id": "786090bd",
   "metadata": {},
   "outputs": [
    {
     "name": "stdout",
     "output_type": "stream",
     "text": [
      "Model: \"sequential_3\"\n",
      "_________________________________________________________________\n",
      " Layer (type)                Output Shape              Param #   \n",
      "_________________________________________________________________\n",
      " Layer (type)                Output Shape              Param #   \n",
      "=================================================================\n",
      " flatten_3 (Flatten)         (None, 784)               0         \n",
      "                                                                 \n",
      " dense_18 (Dense)            (None, 128)               100480    \n",
      "                                                                 \n",
      " dropout_12 (Dropout)        (None, 128)               0         \n",
      "                                                                 \n",
      " dense_19 (Dense)            (None, 128)               16512     \n",
      "                                                                 \n",
      "=================================================================\n",
      " flatten_3 (Flatten)         (None, 784)               0         \n",
      "                                                                 \n",
      " dense_18 (Dense)            (None, 128)               100480    \n",
      "                                                                 \n",
      " dropout_12 (Dropout)        (None, 128)               0         \n",
      "                                                                 \n",
      " dense_19 (Dense)            (None, 128)               16512     \n",
      "                                                                 \n",
      " dropout_13 (Dropout)        (None, 128)               0         \n",
      "                                                                 \n",
      " dense_20 (Dense)            (None, 64)                8256      \n",
      "                                                                 \n",
      " dropout_14 (Dropout)        (None, 64)                0         \n",
      "                                                                 \n",
      " dense_21 (Dense)            (None, 64)                4160      \n",
      "                                                                 \n",
      " dropout_15 (Dropout)        (None, 64)                0         \n",
      " dropout_13 (Dropout)        (None, 128)               0         \n",
      "                                                                 \n",
      " dense_20 (Dense)            (None, 64)                8256      \n",
      "                                                                 \n",
      " dropout_14 (Dropout)        (None, 64)                0         \n",
      "                                                                 \n",
      " dense_21 (Dense)            (None, 64)                4160      \n",
      "                                                                 \n",
      " dropout_15 (Dropout)        (None, 64)                0         \n",
      "                                                                 \n",
      " dense_22 (Dense)            (None, 32)                2080      \n",
      "                                                                 \n",
      " dense_23 (Dense)            (None, 10)                330       \n",
      "                                                                 \n",
      "=================================================================\n",
      "Total params: 131818 (514.91 KB)\n",
      "Trainable params: 131818 (514.91 KB)\n",
      "Non-trainable params: 0 (0.00 Byte)\n",
      "_________________________________________________________________\n",
      "                                                                 \n",
      " dense_22 (Dense)            (None, 32)                2080      \n",
      "                                                                 \n",
      " dense_23 (Dense)            (None, 10)                330       \n",
      "                                                                 \n",
      "=================================================================\n",
      "Total params: 131818 (514.91 KB)\n",
      "Trainable params: 131818 (514.91 KB)\n",
      "Non-trainable params: 0 (0.00 Byte)\n",
      "_________________________________________________________________\n"
     ]
    }
   ],
   "source": [
    "model.summary()"
   ]
  },
  {
   "cell_type": "code",
   "execution_count": 54,
   "id": "3d543e1e",
   "metadata": {},
   "outputs": [],
   "source": [
    "callback=EarlyStopping(\n",
    "    monitor=\"val_loss\",\n",
    "    min_delta=0,\n",
    "    patience=0,\n",
    "    verbose=1,\n",
    "    mode=\"auto\",\n",
    "    baseline=None,\n",
    "    restore_best_weights=False,\n",
    "    start_from_epoch=0)\n"
   ]
  },
  {
   "cell_type": "code",
   "execution_count": 55,
   "id": "681c2024",
   "metadata": {},
   "outputs": [],
   "source": [
    "model.compile(loss='sparse_categorical_crossentropy',optimizer='adam',metrics=['accuracy'])"
   ]
  },
  {
   "cell_type": "code",
   "execution_count": 56,
   "id": "c54522de",
   "metadata": {},
   "outputs": [
    {
     "name": "stdout",
     "output_type": "stream",
     "text": [
      "Epoch 1/100\n",
      "1500/1500 [==============================] - 6s 3ms/step - loss: 0.7033 - accuracy: 0.7471 - val_loss: 0.4387 - val_accuracy: 0.8393\n",
      "Epoch 2/100\n",
      "1500/1500 [==============================] - 6s 3ms/step - loss: 0.7033 - accuracy: 0.7471 - val_loss: 0.4387 - val_accuracy: 0.8393\n",
      "Epoch 2/100\n",
      "1500/1500 [==============================] - 4s 3ms/step - loss: 0.4873 - accuracy: 0.8295 - val_loss: 0.4128 - val_accuracy: 0.8578\n",
      "Epoch 3/100\n",
      "1500/1500 [==============================] - 4s 3ms/step - loss: 0.4873 - accuracy: 0.8295 - val_loss: 0.4128 - val_accuracy: 0.8578\n",
      "Epoch 3/100\n",
      "1500/1500 [==============================] - 3s 2ms/step - loss: 0.4470 - accuracy: 0.8437 - val_loss: 0.3874 - val_accuracy: 0.8602\n",
      "Epoch 4/100\n",
      "1500/1500 [==============================] - 3s 2ms/step - loss: 0.4470 - accuracy: 0.8437 - val_loss: 0.3874 - val_accuracy: 0.8602\n",
      "Epoch 4/100\n",
      "1500/1500 [==============================] - 8s 5ms/step - loss: 0.4181 - accuracy: 0.8523 - val_loss: 0.3858 - val_accuracy: 0.8588\n",
      "Epoch 5/100\n",
      "1500/1500 [==============================] - 8s 5ms/step - loss: 0.4181 - accuracy: 0.8523 - val_loss: 0.3858 - val_accuracy: 0.8588\n",
      "Epoch 5/100\n",
      "1500/1500 [==============================] - 8s 5ms/step - loss: 0.4034 - accuracy: 0.8572 - val_loss: 0.3624 - val_accuracy: 0.8711\n",
      "Epoch 6/100\n",
      "1500/1500 [==============================] - 8s 5ms/step - loss: 0.4034 - accuracy: 0.8572 - val_loss: 0.3624 - val_accuracy: 0.8711\n",
      "Epoch 6/100\n",
      "1500/1500 [==============================] - 4s 3ms/step - loss: 0.3857 - accuracy: 0.8634 - val_loss: 0.3687 - val_accuracy: 0.8695\n",
      "Epoch 6: early stopping\n",
      "1500/1500 [==============================] - 4s 3ms/step - loss: 0.3857 - accuracy: 0.8634 - val_loss: 0.3687 - val_accuracy: 0.8695\n",
      "Epoch 6: early stopping\n"
     ]
    }
   ],
   "source": [
    "history=model.fit(X_train,y_train,epochs=100,validation_split=0.2,callbacks=callback)       "
   ]
  },
  {
   "cell_type": "markdown",
   "id": "5d8234de",
   "metadata": {},
   "source": []
  },
  {
   "cell_type": "code",
   "execution_count": 57,
   "id": "304bb051",
   "metadata": {},
   "outputs": [
    {
     "data": {
      "text/plain": [
       "[<matplotlib.lines.Line2D at 0x2274e2dfca0>]"
      ]
     },
     "execution_count": 57,
     "metadata": {},
     "output_type": "execute_result"
    },
    {
     "data": {
      "image/png": "[encoded data removed]",
      "text/plain": [
       "<Figure size 640x480 with 1 Axes>"
      ]
     },
     "metadata": {},
     "output_type": "display_data"
    }
   ],
   "source": [
    "plt.plot(history.history['loss'],color='red')\n",
    "plt.plot(history.history['val_loss'],color='blue')"
   ]
  },
  {
   "cell_type": "code",
   "execution_count": 58,
   "id": "3445338f",
   "metadata": {},
   "outputs": [
    {
     "data": {
      "text/plain": [
       "[<matplotlib.lines.Line2D at 0x2274e325370>]"
      ]
     },
     "execution_count": 58,
     "metadata": {},
     "output_type": "execute_result"
    },
    {
     "data": {
      "image/png": "[encoded data removed]",
      "text/plain": [
       "<Figure size 640x480 with 1 Axes>"
      ]
     },
     "metadata": {},
     "output_type": "display_data"
    }
   ],
   "source": [
    "plt.plot(history.history['accuracy'],color='red')\n",
    "plt.plot(history.history['val_accuracy'],color='blue')"
   ]
  },
  {
   "cell_type": "code",
   "execution_count": 59,
   "id": "ec632fe9",
   "metadata": {},
   "outputs": [],
   "source": [
    "class_names = [\"T-shirt/top\", \"Trouser\", \"Pullover\", \"Dress\", \"Coat\",\n",
    "               \"Sandal\", \"Shirt\", \"Sneaker\", \"Bag\", \"Ankle boot\"]"
   ]
  },
  {
   "cell_type": "code",
   "execution_count": 60,
   "id": "78badfbe",
   "metadata": {},
   "outputs": [
    {
     "name": "stdout",
     "output_type": "stream",
     "text": [
      "313/313 [==============================] - 0s 1ms/step\n",
      "313/313 [==============================] - 0s 1ms/step\n"
     ]
    }
   ],
   "source": [
    "y_prob=model.predict(X_test)"
   ]
  },
  {
   "cell_type": "code",
   "execution_count": 61,
   "id": "dabe620c",
   "metadata": {},
   "outputs": [
    {
     "data": {
      "text/plain": [
       "array([[1.31289298e-05, 2.24043629e-06, 1.18917558e-06, ...,\n",
       "        8.08915868e-02, 3.72455070e-05, 9.11831796e-01],\n",
       "       [7.34269415e-05, 4.15316237e-07, 9.88404989e-01, ...,\n",
       "        2.03953965e-10, 1.64141125e-06, 4.04374763e-11],\n",
       "       [1.08597545e-13, 1.00000000e+00, 2.07818382e-16, ...,\n",
       "        1.46113083e-24, 5.90484897e-19, 1.02112539e-21],\n",
       "       ...,\n",
       "       [1.28324248e-03, 2.63133916e-06, 1.81741361e-05, ...,\n",
       "        1.92520588e-06, 9.97613907e-01, 8.62348088e-07],\n",
       "       [1.66351821e-08, 9.99995232e-01, 2.36404479e-10, ...,\n",
       "        8.77752545e-15, 3.40271041e-11, 4.63123517e-13],\n",
       "       [1.12309335e-05, 1.12553465e-07, 3.30371677e-07, ...,\n",
       "        3.08868680e-02, 1.33714813e-04, 1.08443887e-03]], dtype=float32)"
      ]
     },
     "execution_count": 61,
     "metadata": {},
     "output_type": "execute_result"
    }
   ],
   "source": [
    "y_prob"
   ]
  },
  {
   "cell_type": "code",
   "execution_count": 62,
   "id": "45e3a91e",
   "metadata": {},
   "outputs": [],
   "source": [
    "y_pred=y_prob.argmax(axis=1)"
   ]
  },
  {
   "cell_type": "code",
   "execution_count": 63,
   "id": "27678c91",
   "metadata": {},
   "outputs": [
    {
     "data": {
      "text/plain": [
       "0"
      ]
     },
     "execution_count": 63,
     "metadata": {},
     "output_type": "execute_result"
    }
   ],
   "source": [
    "y_train[101]"
   ]
  },
  {
   "cell_type": "code",
   "execution_count": 64,
   "id": "1cbd3f9a",
   "metadata": {},
   "outputs": [],
   "source": [
    "result=y_pred[101]"
   ]
  },
  {
   "cell_type": "code",
   "execution_count": 65,
   "id": "8d16e547",
   "metadata": {},
   "outputs": [
    {
     "data": {
      "text/plain": [
       "<matplotlib.image.AxesImage at 0x2274e3845e0>"
      ]
     },
     "execution_count": 65,
     "metadata": {},
     "output_type": "execute_result"
    },
    {
     "data": {
      "image/png": "[encoded data removed]",
      "text/plain": [
       "<Figure size 640x480 with 1 Axes>"
      ]
     },
     "metadata": {},
     "output_type": "display_data"
    }
   ],
   "source": [
    "plt.imshow(X_test[101])"
   ]
  },
  {
   "cell_type": "code",
   "execution_count": 66,
   "id": "f6512a39",
   "metadata": {},
   "outputs": [
    {
     "name": "stdout",
     "output_type": "stream",
     "text": [
      "Your Prediction: Shirt\n"
     ]
    }
   ],
   "source": [
    "print(f'Your Prediction: {class_names[result]}')"
   ]
  }
 ],
 "metadata": {
  "kernelspec": {
   "display_name": "Python 3",
   "language": "python",
   "name": "python3"
  },
  "language_info": {
   "codemirror_mode": {
    "name": "ipython",
    "version": 3
   },
   "file_extension": ".py",
   "mimetype": "text/x-python",
   "name": "python",
   "nbconvert_exporter": "python",
   "pygments_lexer": "ipython3",
   "version": "3.8.10"
  }
 },
 "nbformat": 4,
 "nbformat_minor": 5
}
